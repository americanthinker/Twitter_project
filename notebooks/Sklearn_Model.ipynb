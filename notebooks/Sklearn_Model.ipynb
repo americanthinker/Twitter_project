{
 "cells": [
  {
   "cell_type": "code",
   "execution_count": 3,
   "metadata": {},
   "outputs": [],
   "source": [
    "import pandas as pd\n",
    "import numpy as np\n",
    "from pprint import pprint\n",
    "from time import time\n",
    "from sklearn.pipeline import Pipeline\n",
    "from sklearn.feature_extraction.text import TfidfVectorizer\n",
    "from sklearn.ensemble import RandomForestClassifier\n",
    "from sklearn.model_selection import RandomizedSearchCV\n",
    "from joblib import dump"
   ]
  },
  {
   "cell_type": "code",
   "execution_count": 5,
   "metadata": {},
   "outputs": [],
   "source": [
    "train = np.load('../data/interim/train_data.npy', allow_pickle=True)\n",
    "val = np.load('../data/interim/val_data.npy', allow_pickle=True)"
   ]
  },
  {
   "cell_type": "markdown",
   "metadata": {},
   "source": [
    "#### Import or retype label conversion function"
   ]
  },
  {
   "cell_type": "code",
   "execution_count": 6,
   "metadata": {},
   "outputs": [],
   "source": [
    "def convert_cat_to_number(cat):\n",
    "    if cat == 'negative':\n",
    "        return 0\n",
    "    elif cat == 'neutral':\n",
    "        return 1\n",
    "    else:\n",
    "        return 2"
   ]
  },
  {
   "cell_type": "markdown",
   "metadata": {},
   "source": [
    "#### Pre-processing\n",
    "- Concatenante train and dev sets for use with Cross Validation\n",
    "- Convert all airline sentiment to 0,1,2 labels\n",
    "- Grab text data from 10th column"
   ]
  },
  {
   "cell_type": "code",
   "execution_count": 15,
   "metadata": {},
   "outputs": [],
   "source": [
    "all_data = np.concatenate([train, val])\n",
    "all_labels = [convert_cat_to_number(x) for x in all_data[:,1]]\n",
    "all_text = all_data[:,10]"
   ]
  },
  {
   "cell_type": "markdown",
   "metadata": {},
   "source": [
    "# ***Make a note here, transfer to Colab notebook to actually run model"
   ]
  },
  {
   "cell_type": "markdown",
   "metadata": {},
   "source": [
    "#### Initiate ML Pipeline and define parametes for use in Randomized Search CV"
   ]
  },
  {
   "cell_type": "code",
   "execution_count": 18,
   "metadata": {},
   "outputs": [],
   "source": [
    "pipeline = Pipeline([\n",
    "    ('tfidf', TfidfVectorizer()),\n",
    "    ('clf', RandomForestClassifier())\n",
    "])\n",
    "\n",
    "parameters = {\n",
    "    'tfidf__max_df': (0.9, 0.95, 1.0),\n",
    "    'tfidf__min_df': (0.1, 0.05, 0.0),\n",
    "    'tfidf__stop_words': ('english', None),\n",
    "    'tfidf__max_features': (None, 5000, 10000, 25000, 50000, 75000),\n",
    "    'tfidf__ngram_range': ((1,1), (1,2)),    #unigrams or bigrams\n",
    "    'tfidf__norm': ('l1', 'l2'),\n",
    "    'clf__n_estimators': (100, 200, 1000, 5000),\n",
    "    'clf__max_depth': (None, 5,10,15),\n",
    "    'clf__min_samples_split': (2,4,6)\n",
    "}"
   ]
  },
  {
   "cell_type": "code",
   "execution_count": 20,
   "metadata": {},
   "outputs": [],
   "source": [
    "random_search = RandomizedSearchCV(pipeline, parameters, n_iter=100, n_jobs=-1, verbose=1, cv=5, \n",
    "                                   scoring='f1_weighted', random_state=42)"
   ]
  },
  {
   "cell_type": "code",
   "execution_count": null,
   "metadata": {},
   "outputs": [],
   "source": [
    "print('Performing random search...')\n",
    "print('pipeline:', [name for name, _ in pipeline.steps])\n",
    "print('Parameters: \\n')\n",
    "pprint(parameters)\n",
    "t0 = time()\n",
    "random_search.fit(all_text, all_labels)\n",
    "print(f'Completed in {time() - t0:.3fs}\\n')\n",
    "print(f'Best Score: {random_search.best_score_:.3f}')\n",
    "print('Best Parameter set:')\n",
    "best_parameters = random_search.best_estimator_.get_params()\n",
    "for param_name in sorted(parameters.keys()):\n",
    "    print(f'\\t{param_name}: {best_parameters[param_name]}')\n"
   ]
  }
 ],
 "metadata": {
  "kernelspec": {
   "display_name": "twitter_sent",
   "language": "python",
   "name": "twitter_sent"
  },
  "language_info": {
   "codemirror_mode": {
    "name": "ipython",
    "version": 3
   },
   "file_extension": ".py",
   "mimetype": "text/x-python",
   "name": "python",
   "nbconvert_exporter": "python",
   "pygments_lexer": "ipython3",
   "version": "3.7.9"
  }
 },
 "nbformat": 4,
 "nbformat_minor": 4
}
