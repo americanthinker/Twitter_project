{
 "cells": [
  {
   "cell_type": "markdown",
   "metadata": {},
   "source": [
    "**Website links to information on guts of this model**\n",
    "- Torchtext: https://mlexplained.com/2018/02/08/a-comprehensive-tutorial-to-torchtext/\n",
    "- Embeddings: https://pytorch.org/tutorials/beginner/nlp/word_embeddings_tutorial.html\n",
    "- LSTM: https://colah.github.io/posts/2015-08-Understanding-LSTMs/"
   ]
  },
  {
   "cell_type": "code",
   "execution_count": null,
   "metadata": {},
   "outputs": [],
   "source": []
  }
 ],
 "metadata": {
  "kernelspec": {
   "display_name": "twitter_sent",
   "language": "python",
   "name": "twitter_sent"
  },
  "language_info": {
   "codemirror_mode": {
    "name": "ipython",
    "version": 3
   },
   "file_extension": ".py",
   "mimetype": "text/x-python",
   "name": "python",
   "nbconvert_exporter": "python",
   "pygments_lexer": "ipython3",
   "version": "3.7.9"
  }
 },
 "nbformat": 4,
 "nbformat_minor": 4
}
